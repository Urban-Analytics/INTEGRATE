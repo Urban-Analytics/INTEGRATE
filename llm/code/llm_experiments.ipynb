{
 "cells": [
  {
   "cell_type": "markdown",
   "id": "8f6e064c-feb0-4b03-bb6d-98b98ea218b1",
   "metadata": {},
   "source": [
    "# LLM Experiments\n",
    "\n",
    "Early experiments with LLMs"
   ]
  },
  {
   "cell_type": "code",
   "execution_count": null,
   "id": "3c554a8b-ea6e-4ae9-8b93-7c28e795e7ac",
   "metadata": {},
   "outputs": [],
   "source": []
  },
  {
   "cell_type": "code",
   "execution_count": null,
   "id": "1ce82f21-78fc-4fc3-a712-3c273701529a",
   "metadata": {},
   "outputs": [],
   "source": []
  }
 ],
 "metadata": {
  "kernelspec": {
   "display_name": "Python 3 (ipykernel)",
   "language": "python",
   "name": "python3"
  },
  "language_info": {
   "codemirror_mode": {
    "name": "ipython",
    "version": 3
   },
   "file_extension": ".py",
   "mimetype": "text/x-python",
   "name": "python",
   "nbconvert_exporter": "python",
   "pygments_lexer": "ipython3",
   "version": "3.10.12"
  }
 },
 "nbformat": 4,
 "nbformat_minor": 5
}
