{
 "cells": [
  {
   "metadata": {},
   "cell_type": "markdown",
   "source": [
    "# Experiment with inferring gentrifcation from Foursquare data\n",
    "\n",
    "Dingqi YANG's has made some [Foursquare data](https://sites.google.com/site/yangdingqi/home/foursquare-dataset) avaiable. In particular, the 'NYC Restaurant Rich Dataset (Check-ins, Tips, Tags)' is potentially useful as it has Tips, which are text. I have downloaded this (dataset_ubicomp2013.zip) and extracted it to [dataset_ubicomp2013](./dataset_ubicomp2013)."
   ],
   "id": "692c8461c78c8392"
  },
  {
   "metadata": {
    "ExecuteTime": {
     "end_time": "2024-12-11T09:22:44.816078Z",
     "start_time": "2024-12-11T09:22:42.271036Z"
    }
   },
   "cell_type": "code",
   "source": [
    "import pandas as pd\n",
    "import os\n"
   ],
   "id": "5ecca5728c8be9e6",
   "outputs": [],
   "execution_count": 2
  },
  {
   "metadata": {
    "ExecuteTime": {
     "end_time": "2024-12-11T09:25:59.463566Z",
     "start_time": "2024-12-11T09:25:59.446012Z"
    }
   },
   "cell_type": "code",
   "source": [
    "df = pd.read_csv(os.path.join('dataset_ubicomp2013', 'dataset_ubicomp2013_tips.txt'),\n",
    "                 encoding='latin1', sep='\\t', names=[\"userid\", \"venueid\", \"text\"])\n",
    "df"
   ],
   "id": "e93944fc4caee9d3",
   "outputs": [
    {
     "data": {
      "text/plain": [
       "       userid  venueid                                               text\n",
       "0       24436       15  make your own sandwich: tuna salad on country ...\n",
       "1        8550       20  The calamari as an appetizer and the quail. Pr...\n",
       "2        1537       20  Be careful with the napkins on your pants. The...\n",
       "3       59283       20   try the steak frites, it's the best - believe me\n",
       "4         713       20  go visit google across the street. see the big...\n",
       "...       ...      ...                                                ...\n",
       "10372    2677  2358357  Way too crowded due to the construction at 7th...\n",
       "10373   48037  2376156                         Not for the faint of heart\n",
       "10374  231830  2376156  It's goin down Tonight on The Stage (Open Mic ...\n",
       "10375   22278  2422200  In 2011, 60% of the 25,000 orange, red and whi...\n",
       "10376   22278  2422200  Developed by Harold Hinn & the Residence Halls...\n",
       "\n",
       "[10377 rows x 3 columns]"
      ],
      "text/html": [
       "<div>\n",
       "<style scoped>\n",
       "    .dataframe tbody tr th:only-of-type {\n",
       "        vertical-align: middle;\n",
       "    }\n",
       "\n",
       "    .dataframe tbody tr th {\n",
       "        vertical-align: top;\n",
       "    }\n",
       "\n",
       "    .dataframe thead th {\n",
       "        text-align: right;\n",
       "    }\n",
       "</style>\n",
       "<table border=\"1\" class=\"dataframe\">\n",
       "  <thead>\n",
       "    <tr style=\"text-align: right;\">\n",
       "      <th></th>\n",
       "      <th>userid</th>\n",
       "      <th>venueid</th>\n",
       "      <th>text</th>\n",
       "    </tr>\n",
       "  </thead>\n",
       "  <tbody>\n",
       "    <tr>\n",
       "      <th>0</th>\n",
       "      <td>24436</td>\n",
       "      <td>15</td>\n",
       "      <td>make your own sandwich: tuna salad on country ...</td>\n",
       "    </tr>\n",
       "    <tr>\n",
       "      <th>1</th>\n",
       "      <td>8550</td>\n",
       "      <td>20</td>\n",
       "      <td>The calamari as an appetizer and the quail. Pr...</td>\n",
       "    </tr>\n",
       "    <tr>\n",
       "      <th>2</th>\n",
       "      <td>1537</td>\n",
       "      <td>20</td>\n",
       "      <td>Be careful with the napkins on your pants. The...</td>\n",
       "    </tr>\n",
       "    <tr>\n",
       "      <th>3</th>\n",
       "      <td>59283</td>\n",
       "      <td>20</td>\n",
       "      <td>try the steak frites, it's the best - believe me</td>\n",
       "    </tr>\n",
       "    <tr>\n",
       "      <th>4</th>\n",
       "      <td>713</td>\n",
       "      <td>20</td>\n",
       "      <td>go visit google across the street. see the big...</td>\n",
       "    </tr>\n",
       "    <tr>\n",
       "      <th>...</th>\n",
       "      <td>...</td>\n",
       "      <td>...</td>\n",
       "      <td>...</td>\n",
       "    </tr>\n",
       "    <tr>\n",
       "      <th>10372</th>\n",
       "      <td>2677</td>\n",
       "      <td>2358357</td>\n",
       "      <td>Way too crowded due to the construction at 7th...</td>\n",
       "    </tr>\n",
       "    <tr>\n",
       "      <th>10373</th>\n",
       "      <td>48037</td>\n",
       "      <td>2376156</td>\n",
       "      <td>Not for the faint of heart</td>\n",
       "    </tr>\n",
       "    <tr>\n",
       "      <th>10374</th>\n",
       "      <td>231830</td>\n",
       "      <td>2376156</td>\n",
       "      <td>It's goin down Tonight on The Stage (Open Mic ...</td>\n",
       "    </tr>\n",
       "    <tr>\n",
       "      <th>10375</th>\n",
       "      <td>22278</td>\n",
       "      <td>2422200</td>\n",
       "      <td>In 2011, 60% of the 25,000 orange, red and whi...</td>\n",
       "    </tr>\n",
       "    <tr>\n",
       "      <th>10376</th>\n",
       "      <td>22278</td>\n",
       "      <td>2422200</td>\n",
       "      <td>Developed by Harold Hinn &amp; the Residence Halls...</td>\n",
       "    </tr>\n",
       "  </tbody>\n",
       "</table>\n",
       "<p>10377 rows × 3 columns</p>\n",
       "</div>"
      ]
     },
     "execution_count": 7,
     "metadata": {},
     "output_type": "execute_result"
    }
   ],
   "execution_count": 7
  },
  {
   "metadata": {},
   "cell_type": "code",
   "outputs": [],
   "execution_count": null,
   "source": "",
   "id": "8a5bf841370be3ac"
  }
 ],
 "metadata": {
  "kernelspec": {
   "display_name": "Python 3",
   "language": "python",
   "name": "python3"
  },
  "language_info": {
   "codemirror_mode": {
    "name": "ipython",
    "version": 2
   },
   "file_extension": ".py",
   "mimetype": "text/x-python",
   "name": "python",
   "nbconvert_exporter": "python",
   "pygments_lexer": "ipython2",
   "version": "2.7.6"
  }
 },
 "nbformat": 4,
 "nbformat_minor": 5
}
